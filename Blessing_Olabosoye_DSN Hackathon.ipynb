{
 "cells": [
  {
   "cell_type": "markdown",
   "id": "integral-disclaimer",
   "metadata": {},
   "source": [
    "## Import Packages"
   ]
  },
  {
   "cell_type": "code",
   "execution_count": 1,
   "id": "smaller-hanging",
   "metadata": {},
   "outputs": [],
   "source": [
    "import pandas as pd\n",
    "import numpy as np\n",
    "import seaborn as sns\n",
    "import matplotlib.pyplot as plt\n",
    "from sklearn.model_selection import train_test_split\n",
    "from sklearn import metrics\n",
    "from sklearn.metrics import r2_score\n",
    "\n",
    "import warnings\n",
    "warnings.filterwarnings('ignore')"
   ]
  },
  {
   "cell_type": "markdown",
   "id": "fundamental-wilson",
   "metadata": {},
   "source": [
    "## Read Datasets"
   ]
  },
  {
   "cell_type": "code",
   "execution_count": 2,
   "id": "comfortable-medium",
   "metadata": {},
   "outputs": [],
   "source": [
    "Hack_train = pd.read_csv(r\"C:\\Users\\Dell\\Desktop\\AI Wed\\Hackathon\\train1.csv\")\n",
    "Hack_test = pd.read_csv(r\"C:\\Users\\Dell\\Desktop\\AI Wed\\Hackathon\\test1.csv\")\n",
    "sample_submission = pd.read_csv(r\"Desktop/AI Wed/Hackathon/sample_submission.csv\")"
   ]
  },
  {
   "cell_type": "code",
   "execution_count": 3,
   "id": "novel-tokyo",
   "metadata": {},
   "outputs": [
    {
     "data": {
      "text/html": [
       "<div>\n",
       "<style scoped>\n",
       "    .dataframe tbody tr th:only-of-type {\n",
       "        vertical-align: middle;\n",
       "    }\n",
       "\n",
       "    .dataframe tbody tr th {\n",
       "        vertical-align: top;\n",
       "    }\n",
       "\n",
       "    .dataframe thead th {\n",
       "        text-align: right;\n",
       "    }\n",
       "</style>\n",
       "<table border=\"1\" class=\"dataframe\">\n",
       "  <thead>\n",
       "    <tr style=\"text-align: right;\">\n",
       "      <th></th>\n",
       "      <th>Customer_ID</th>\n",
       "      <th>months_as_customer</th>\n",
       "      <th>age</th>\n",
       "      <th>insured_sex</th>\n",
       "      <th>insured_education_level</th>\n",
       "      <th>insured_occupation</th>\n",
       "      <th>insured_hobbies</th>\n",
       "      <th>insured_relationship</th>\n",
       "      <th>capital-gains</th>\n",
       "      <th>capital-loss</th>\n",
       "      <th>...</th>\n",
       "      <th>authorities_contacted</th>\n",
       "      <th>incident_state</th>\n",
       "      <th>incident_city</th>\n",
       "      <th>witnesses</th>\n",
       "      <th>police_report_available</th>\n",
       "      <th>auto_make</th>\n",
       "      <th>auto_model</th>\n",
       "      <th>auto_year</th>\n",
       "      <th>_c39</th>\n",
       "      <th>total_claim_amount</th>\n",
       "    </tr>\n",
       "  </thead>\n",
       "  <tbody>\n",
       "    <tr>\n",
       "      <th>0</th>\n",
       "      <td>Customer_541</td>\n",
       "      <td>239</td>\n",
       "      <td>41</td>\n",
       "      <td>FEMALE</td>\n",
       "      <td>JD</td>\n",
       "      <td>farming-fishing</td>\n",
       "      <td>paintball</td>\n",
       "      <td>other-relative</td>\n",
       "      <td>51400</td>\n",
       "      <td>-6300</td>\n",
       "      <td>...</td>\n",
       "      <td>Police</td>\n",
       "      <td>NC</td>\n",
       "      <td>Arlington</td>\n",
       "      <td>2</td>\n",
       "      <td>YES</td>\n",
       "      <td>Mercedes</td>\n",
       "      <td>E400</td>\n",
       "      <td>2013</td>\n",
       "      <td>NaN</td>\n",
       "      <td>14386.67</td>\n",
       "    </tr>\n",
       "    <tr>\n",
       "      <th>1</th>\n",
       "      <td>Customer_440</td>\n",
       "      <td>108</td>\n",
       "      <td>31</td>\n",
       "      <td>MALE</td>\n",
       "      <td>Masters</td>\n",
       "      <td>protective-serv</td>\n",
       "      <td>yachting</td>\n",
       "      <td>not-in-family</td>\n",
       "      <td>0</td>\n",
       "      <td>0</td>\n",
       "      <td>...</td>\n",
       "      <td>Fire</td>\n",
       "      <td>NY</td>\n",
       "      <td>Columbus</td>\n",
       "      <td>2</td>\n",
       "      <td>NO</td>\n",
       "      <td>Dodge</td>\n",
       "      <td>Neon</td>\n",
       "      <td>2006</td>\n",
       "      <td>NaN</td>\n",
       "      <td>76440.00</td>\n",
       "    </tr>\n",
       "    <tr>\n",
       "      <th>2</th>\n",
       "      <td>Customer_482</td>\n",
       "      <td>116</td>\n",
       "      <td>30</td>\n",
       "      <td>MALE</td>\n",
       "      <td>JD</td>\n",
       "      <td>handlers-cleaners</td>\n",
       "      <td>golf</td>\n",
       "      <td>not-in-family</td>\n",
       "      <td>0</td>\n",
       "      <td>-35500</td>\n",
       "      <td>...</td>\n",
       "      <td>Other</td>\n",
       "      <td>WV</td>\n",
       "      <td>Riverwood</td>\n",
       "      <td>3</td>\n",
       "      <td>?</td>\n",
       "      <td>Volkswagen</td>\n",
       "      <td>Passat</td>\n",
       "      <td>2004</td>\n",
       "      <td>NaN</td>\n",
       "      <td>79560.00</td>\n",
       "    </tr>\n",
       "    <tr>\n",
       "      <th>3</th>\n",
       "      <td>Customer_422</td>\n",
       "      <td>8</td>\n",
       "      <td>21</td>\n",
       "      <td>MALE</td>\n",
       "      <td>High School</td>\n",
       "      <td>handlers-cleaners</td>\n",
       "      <td>hiking</td>\n",
       "      <td>husband</td>\n",
       "      <td>0</td>\n",
       "      <td>0</td>\n",
       "      <td>...</td>\n",
       "      <td>Other</td>\n",
       "      <td>WV</td>\n",
       "      <td>Columbus</td>\n",
       "      <td>0</td>\n",
       "      <td>?</td>\n",
       "      <td>Toyota</td>\n",
       "      <td>Corolla</td>\n",
       "      <td>2012</td>\n",
       "      <td>NaN</td>\n",
       "      <td>121680.00</td>\n",
       "    </tr>\n",
       "    <tr>\n",
       "      <th>4</th>\n",
       "      <td>Customer_778</td>\n",
       "      <td>161</td>\n",
       "      <td>38</td>\n",
       "      <td>MALE</td>\n",
       "      <td>PhD</td>\n",
       "      <td>priv-house-serv</td>\n",
       "      <td>exercise</td>\n",
       "      <td>not-in-family</td>\n",
       "      <td>60200</td>\n",
       "      <td>0</td>\n",
       "      <td>...</td>\n",
       "      <td>Police</td>\n",
       "      <td>WV</td>\n",
       "      <td>Springfield</td>\n",
       "      <td>2</td>\n",
       "      <td>YES</td>\n",
       "      <td>Volkswagen</td>\n",
       "      <td>Jetta</td>\n",
       "      <td>2003</td>\n",
       "      <td>NaN</td>\n",
       "      <td>80640.00</td>\n",
       "    </tr>\n",
       "  </tbody>\n",
       "</table>\n",
       "<p>5 rows × 37 columns</p>\n",
       "</div>"
      ],
      "text/plain": [
       "    Customer_ID  months_as_customer  age insured_sex insured_education_level  \\\n",
       "0  Customer_541                 239   41      FEMALE                      JD   \n",
       "1  Customer_440                 108   31        MALE                 Masters   \n",
       "2  Customer_482                 116   30        MALE                      JD   \n",
       "3  Customer_422                   8   21        MALE             High School   \n",
       "4  Customer_778                 161   38        MALE                     PhD   \n",
       "\n",
       "  insured_occupation insured_hobbies insured_relationship  capital-gains  \\\n",
       "0    farming-fishing       paintball       other-relative          51400   \n",
       "1    protective-serv        yachting        not-in-family              0   \n",
       "2  handlers-cleaners            golf        not-in-family              0   \n",
       "3  handlers-cleaners          hiking              husband              0   \n",
       "4    priv-house-serv        exercise        not-in-family          60200   \n",
       "\n",
       "   capital-loss  ...  authorities_contacted incident_state incident_city  \\\n",
       "0         -6300  ...                 Police             NC     Arlington   \n",
       "1             0  ...                   Fire             NY      Columbus   \n",
       "2        -35500  ...                  Other             WV     Riverwood   \n",
       "3             0  ...                  Other             WV      Columbus   \n",
       "4             0  ...                 Police             WV   Springfield   \n",
       "\n",
       "  witnesses  police_report_available   auto_make  auto_model  auto_year _c39  \\\n",
       "0         2                      YES    Mercedes        E400       2013  NaN   \n",
       "1         2                       NO       Dodge        Neon       2006  NaN   \n",
       "2         3                        ?  Volkswagen      Passat       2004  NaN   \n",
       "3         0                        ?      Toyota     Corolla       2012  NaN   \n",
       "4         2                      YES  Volkswagen       Jetta       2003  NaN   \n",
       "\n",
       "   total_claim_amount  \n",
       "0            14386.67  \n",
       "1            76440.00  \n",
       "2            79560.00  \n",
       "3           121680.00  \n",
       "4            80640.00  \n",
       "\n",
       "[5 rows x 37 columns]"
      ]
     },
     "execution_count": 3,
     "metadata": {},
     "output_type": "execute_result"
    }
   ],
   "source": [
    "Hack_train.head()"
   ]
  },
  {
   "cell_type": "code",
   "execution_count": 4,
   "id": "optical-necklace",
   "metadata": {},
   "outputs": [
    {
     "data": {
      "text/html": [
       "<div>\n",
       "<style scoped>\n",
       "    .dataframe tbody tr th:only-of-type {\n",
       "        vertical-align: middle;\n",
       "    }\n",
       "\n",
       "    .dataframe tbody tr th {\n",
       "        vertical-align: top;\n",
       "    }\n",
       "\n",
       "    .dataframe thead th {\n",
       "        text-align: right;\n",
       "    }\n",
       "</style>\n",
       "<table border=\"1\" class=\"dataframe\">\n",
       "  <thead>\n",
       "    <tr style=\"text-align: right;\">\n",
       "      <th></th>\n",
       "      <th>Customer_ID</th>\n",
       "      <th>months_as_customer</th>\n",
       "      <th>age</th>\n",
       "      <th>insured_sex</th>\n",
       "      <th>insured_education_level</th>\n",
       "      <th>insured_occupation</th>\n",
       "      <th>insured_hobbies</th>\n",
       "      <th>insured_relationship</th>\n",
       "      <th>capital-gains</th>\n",
       "      <th>capital-loss</th>\n",
       "      <th>...</th>\n",
       "      <th>incident_severity</th>\n",
       "      <th>authorities_contacted</th>\n",
       "      <th>incident_state</th>\n",
       "      <th>incident_city</th>\n",
       "      <th>witnesses</th>\n",
       "      <th>police_report_available</th>\n",
       "      <th>auto_make</th>\n",
       "      <th>auto_model</th>\n",
       "      <th>auto_year</th>\n",
       "      <th>_c39</th>\n",
       "    </tr>\n",
       "  </thead>\n",
       "  <tbody>\n",
       "    <tr>\n",
       "      <th>0</th>\n",
       "      <td>Customer_521</td>\n",
       "      <td>5</td>\n",
       "      <td>26</td>\n",
       "      <td>FEMALE</td>\n",
       "      <td>PhD</td>\n",
       "      <td>farming-fishing</td>\n",
       "      <td>skydiving</td>\n",
       "      <td>not-in-family</td>\n",
       "      <td>31500</td>\n",
       "      <td>0</td>\n",
       "      <td>...</td>\n",
       "      <td>Total Loss</td>\n",
       "      <td>Ambulance</td>\n",
       "      <td>WV</td>\n",
       "      <td>Springfield</td>\n",
       "      <td>3</td>\n",
       "      <td>?</td>\n",
       "      <td>Audi</td>\n",
       "      <td>A5</td>\n",
       "      <td>2003</td>\n",
       "      <td>NaN</td>\n",
       "    </tr>\n",
       "    <tr>\n",
       "      <th>1</th>\n",
       "      <td>Customer_737</td>\n",
       "      <td>160</td>\n",
       "      <td>33</td>\n",
       "      <td>FEMALE</td>\n",
       "      <td>High School</td>\n",
       "      <td>exec-managerial</td>\n",
       "      <td>exercise</td>\n",
       "      <td>husband</td>\n",
       "      <td>61600</td>\n",
       "      <td>0</td>\n",
       "      <td>...</td>\n",
       "      <td>Total Loss</td>\n",
       "      <td>Ambulance</td>\n",
       "      <td>NC</td>\n",
       "      <td>Riverwood</td>\n",
       "      <td>3</td>\n",
       "      <td>YES</td>\n",
       "      <td>Nissan</td>\n",
       "      <td>Pathfinder</td>\n",
       "      <td>2006</td>\n",
       "      <td>NaN</td>\n",
       "    </tr>\n",
       "    <tr>\n",
       "      <th>2</th>\n",
       "      <td>Customer_740</td>\n",
       "      <td>385</td>\n",
       "      <td>51</td>\n",
       "      <td>FEMALE</td>\n",
       "      <td>MD</td>\n",
       "      <td>craft-repair</td>\n",
       "      <td>reading</td>\n",
       "      <td>husband</td>\n",
       "      <td>0</td>\n",
       "      <td>-61000</td>\n",
       "      <td>...</td>\n",
       "      <td>Minor Damage</td>\n",
       "      <td>Other</td>\n",
       "      <td>WV</td>\n",
       "      <td>Riverwood</td>\n",
       "      <td>3</td>\n",
       "      <td>?</td>\n",
       "      <td>Suburu</td>\n",
       "      <td>Legacy</td>\n",
       "      <td>2007</td>\n",
       "      <td>NaN</td>\n",
       "    </tr>\n",
       "    <tr>\n",
       "      <th>3</th>\n",
       "      <td>Customer_660</td>\n",
       "      <td>446</td>\n",
       "      <td>57</td>\n",
       "      <td>MALE</td>\n",
       "      <td>College</td>\n",
       "      <td>adm-clerical</td>\n",
       "      <td>sleeping</td>\n",
       "      <td>unmarried</td>\n",
       "      <td>42700</td>\n",
       "      <td>-64900</td>\n",
       "      <td>...</td>\n",
       "      <td>Total Loss</td>\n",
       "      <td>Police</td>\n",
       "      <td>SC</td>\n",
       "      <td>Northbrook</td>\n",
       "      <td>0</td>\n",
       "      <td>NO</td>\n",
       "      <td>Jeep</td>\n",
       "      <td>Wrangler</td>\n",
       "      <td>2012</td>\n",
       "      <td>NaN</td>\n",
       "    </tr>\n",
       "    <tr>\n",
       "      <th>4</th>\n",
       "      <td>Customer_411</td>\n",
       "      <td>84</td>\n",
       "      <td>29</td>\n",
       "      <td>FEMALE</td>\n",
       "      <td>High School</td>\n",
       "      <td>machine-op-inspct</td>\n",
       "      <td>video-games</td>\n",
       "      <td>not-in-family</td>\n",
       "      <td>0</td>\n",
       "      <td>-29900</td>\n",
       "      <td>...</td>\n",
       "      <td>Trivial Damage</td>\n",
       "      <td>Police</td>\n",
       "      <td>SC</td>\n",
       "      <td>Arlington</td>\n",
       "      <td>0</td>\n",
       "      <td>YES</td>\n",
       "      <td>BMW</td>\n",
       "      <td>3 Series</td>\n",
       "      <td>2005</td>\n",
       "      <td>NaN</td>\n",
       "    </tr>\n",
       "  </tbody>\n",
       "</table>\n",
       "<p>5 rows × 36 columns</p>\n",
       "</div>"
      ],
      "text/plain": [
       "    Customer_ID  months_as_customer  age insured_sex insured_education_level  \\\n",
       "0  Customer_521                   5   26      FEMALE                     PhD   \n",
       "1  Customer_737                 160   33      FEMALE             High School   \n",
       "2  Customer_740                 385   51      FEMALE                      MD   \n",
       "3  Customer_660                 446   57        MALE                 College   \n",
       "4  Customer_411                  84   29      FEMALE             High School   \n",
       "\n",
       "  insured_occupation insured_hobbies insured_relationship  capital-gains  \\\n",
       "0    farming-fishing       skydiving        not-in-family          31500   \n",
       "1    exec-managerial        exercise              husband          61600   \n",
       "2       craft-repair         reading              husband              0   \n",
       "3       adm-clerical        sleeping            unmarried          42700   \n",
       "4  machine-op-inspct     video-games        not-in-family              0   \n",
       "\n",
       "   capital-loss  ...  incident_severity authorities_contacted incident_state  \\\n",
       "0             0  ...         Total Loss             Ambulance             WV   \n",
       "1             0  ...         Total Loss             Ambulance             NC   \n",
       "2        -61000  ...       Minor Damage                 Other             WV   \n",
       "3        -64900  ...         Total Loss                Police             SC   \n",
       "4        -29900  ...     Trivial Damage                Police             SC   \n",
       "\n",
       "  incident_city  witnesses police_report_available  auto_make  auto_model  \\\n",
       "0   Springfield          3                       ?       Audi          A5   \n",
       "1     Riverwood          3                     YES     Nissan  Pathfinder   \n",
       "2     Riverwood          3                       ?     Suburu      Legacy   \n",
       "3    Northbrook          0                      NO       Jeep    Wrangler   \n",
       "4     Arlington          0                     YES        BMW    3 Series   \n",
       "\n",
       "  auto_year  _c39  \n",
       "0      2003   NaN  \n",
       "1      2006   NaN  \n",
       "2      2007   NaN  \n",
       "3      2012   NaN  \n",
       "4      2005   NaN  \n",
       "\n",
       "[5 rows x 36 columns]"
      ]
     },
     "execution_count": 4,
     "metadata": {},
     "output_type": "execute_result"
    }
   ],
   "source": [
    "Hack_test.head()"
   ]
  },
  {
   "cell_type": "code",
   "execution_count": 5,
   "id": "square-hacker",
   "metadata": {},
   "outputs": [
    {
     "data": {
      "text/html": [
       "<div>\n",
       "<style scoped>\n",
       "    .dataframe tbody tr th:only-of-type {\n",
       "        vertical-align: middle;\n",
       "    }\n",
       "\n",
       "    .dataframe tbody tr th {\n",
       "        vertical-align: top;\n",
       "    }\n",
       "\n",
       "    .dataframe thead th {\n",
       "        text-align: right;\n",
       "    }\n",
       "</style>\n",
       "<table border=\"1\" class=\"dataframe\">\n",
       "  <thead>\n",
       "    <tr style=\"text-align: right;\">\n",
       "      <th></th>\n",
       "      <th>Customer_ID</th>\n",
       "      <th>total_claim_amount</th>\n",
       "    </tr>\n",
       "  </thead>\n",
       "  <tbody>\n",
       "    <tr>\n",
       "      <th>0</th>\n",
       "      <td>Customer_521</td>\n",
       "      <td>143059</td>\n",
       "    </tr>\n",
       "    <tr>\n",
       "      <th>1</th>\n",
       "      <td>Customer_737</td>\n",
       "      <td>42418</td>\n",
       "    </tr>\n",
       "    <tr>\n",
       "      <th>2</th>\n",
       "      <td>Customer_740</td>\n",
       "      <td>84649</td>\n",
       "    </tr>\n",
       "    <tr>\n",
       "      <th>3</th>\n",
       "      <td>Customer_660</td>\n",
       "      <td>150389</td>\n",
       "    </tr>\n",
       "    <tr>\n",
       "      <th>4</th>\n",
       "      <td>Customer_411</td>\n",
       "      <td>11139</td>\n",
       "    </tr>\n",
       "  </tbody>\n",
       "</table>\n",
       "</div>"
      ],
      "text/plain": [
       "    Customer_ID  total_claim_amount\n",
       "0  Customer_521              143059\n",
       "1  Customer_737               42418\n",
       "2  Customer_740               84649\n",
       "3  Customer_660              150389\n",
       "4  Customer_411               11139"
      ]
     },
     "execution_count": 5,
     "metadata": {},
     "output_type": "execute_result"
    }
   ],
   "source": [
    "sample_submission.head()"
   ]
  },
  {
   "cell_type": "markdown",
   "id": "efficient-hammer",
   "metadata": {},
   "source": [
    "## Data Preprocessing of the Train and Test Dataset"
   ]
  },
  {
   "cell_type": "markdown",
   "id": "crazy-doubt",
   "metadata": {},
   "source": [
    "### Replacing ? with NaN"
   ]
  },
  {
   "cell_type": "code",
   "execution_count": 6,
   "id": "adapted-demographic",
   "metadata": {},
   "outputs": [
    {
     "data": {
      "text/html": [
       "<div>\n",
       "<style scoped>\n",
       "    .dataframe tbody tr th:only-of-type {\n",
       "        vertical-align: middle;\n",
       "    }\n",
       "\n",
       "    .dataframe tbody tr th {\n",
       "        vertical-align: top;\n",
       "    }\n",
       "\n",
       "    .dataframe thead th {\n",
       "        text-align: right;\n",
       "    }\n",
       "</style>\n",
       "<table border=\"1\" class=\"dataframe\">\n",
       "  <thead>\n",
       "    <tr style=\"text-align: right;\">\n",
       "      <th></th>\n",
       "      <th>Customer_ID</th>\n",
       "      <th>months_as_customer</th>\n",
       "      <th>age</th>\n",
       "      <th>insured_sex</th>\n",
       "      <th>insured_education_level</th>\n",
       "      <th>insured_occupation</th>\n",
       "      <th>insured_hobbies</th>\n",
       "      <th>insured_relationship</th>\n",
       "      <th>capital-gains</th>\n",
       "      <th>capital-loss</th>\n",
       "      <th>...</th>\n",
       "      <th>authorities_contacted</th>\n",
       "      <th>incident_state</th>\n",
       "      <th>incident_city</th>\n",
       "      <th>witnesses</th>\n",
       "      <th>police_report_available</th>\n",
       "      <th>auto_make</th>\n",
       "      <th>auto_model</th>\n",
       "      <th>auto_year</th>\n",
       "      <th>_c39</th>\n",
       "      <th>total_claim_amount</th>\n",
       "    </tr>\n",
       "  </thead>\n",
       "  <tbody>\n",
       "    <tr>\n",
       "      <th>0</th>\n",
       "      <td>Customer_541</td>\n",
       "      <td>239</td>\n",
       "      <td>41</td>\n",
       "      <td>FEMALE</td>\n",
       "      <td>JD</td>\n",
       "      <td>farming-fishing</td>\n",
       "      <td>paintball</td>\n",
       "      <td>other-relative</td>\n",
       "      <td>51400</td>\n",
       "      <td>-6300</td>\n",
       "      <td>...</td>\n",
       "      <td>Police</td>\n",
       "      <td>NC</td>\n",
       "      <td>Arlington</td>\n",
       "      <td>2</td>\n",
       "      <td>YES</td>\n",
       "      <td>Mercedes</td>\n",
       "      <td>E400</td>\n",
       "      <td>2013</td>\n",
       "      <td>NaN</td>\n",
       "      <td>14386.67</td>\n",
       "    </tr>\n",
       "    <tr>\n",
       "      <th>1</th>\n",
       "      <td>Customer_440</td>\n",
       "      <td>108</td>\n",
       "      <td>31</td>\n",
       "      <td>MALE</td>\n",
       "      <td>Masters</td>\n",
       "      <td>protective-serv</td>\n",
       "      <td>yachting</td>\n",
       "      <td>not-in-family</td>\n",
       "      <td>0</td>\n",
       "      <td>0</td>\n",
       "      <td>...</td>\n",
       "      <td>Fire</td>\n",
       "      <td>NY</td>\n",
       "      <td>Columbus</td>\n",
       "      <td>2</td>\n",
       "      <td>NO</td>\n",
       "      <td>Dodge</td>\n",
       "      <td>Neon</td>\n",
       "      <td>2006</td>\n",
       "      <td>NaN</td>\n",
       "      <td>76440.00</td>\n",
       "    </tr>\n",
       "    <tr>\n",
       "      <th>2</th>\n",
       "      <td>Customer_482</td>\n",
       "      <td>116</td>\n",
       "      <td>30</td>\n",
       "      <td>MALE</td>\n",
       "      <td>JD</td>\n",
       "      <td>handlers-cleaners</td>\n",
       "      <td>golf</td>\n",
       "      <td>not-in-family</td>\n",
       "      <td>0</td>\n",
       "      <td>-35500</td>\n",
       "      <td>...</td>\n",
       "      <td>Other</td>\n",
       "      <td>WV</td>\n",
       "      <td>Riverwood</td>\n",
       "      <td>3</td>\n",
       "      <td>NaN</td>\n",
       "      <td>Volkswagen</td>\n",
       "      <td>Passat</td>\n",
       "      <td>2004</td>\n",
       "      <td>NaN</td>\n",
       "      <td>79560.00</td>\n",
       "    </tr>\n",
       "    <tr>\n",
       "      <th>3</th>\n",
       "      <td>Customer_422</td>\n",
       "      <td>8</td>\n",
       "      <td>21</td>\n",
       "      <td>MALE</td>\n",
       "      <td>High School</td>\n",
       "      <td>handlers-cleaners</td>\n",
       "      <td>hiking</td>\n",
       "      <td>husband</td>\n",
       "      <td>0</td>\n",
       "      <td>0</td>\n",
       "      <td>...</td>\n",
       "      <td>Other</td>\n",
       "      <td>WV</td>\n",
       "      <td>Columbus</td>\n",
       "      <td>0</td>\n",
       "      <td>NaN</td>\n",
       "      <td>Toyota</td>\n",
       "      <td>Corolla</td>\n",
       "      <td>2012</td>\n",
       "      <td>NaN</td>\n",
       "      <td>121680.00</td>\n",
       "    </tr>\n",
       "    <tr>\n",
       "      <th>4</th>\n",
       "      <td>Customer_778</td>\n",
       "      <td>161</td>\n",
       "      <td>38</td>\n",
       "      <td>MALE</td>\n",
       "      <td>PhD</td>\n",
       "      <td>priv-house-serv</td>\n",
       "      <td>exercise</td>\n",
       "      <td>not-in-family</td>\n",
       "      <td>60200</td>\n",
       "      <td>0</td>\n",
       "      <td>...</td>\n",
       "      <td>Police</td>\n",
       "      <td>WV</td>\n",
       "      <td>Springfield</td>\n",
       "      <td>2</td>\n",
       "      <td>YES</td>\n",
       "      <td>Volkswagen</td>\n",
       "      <td>Jetta</td>\n",
       "      <td>2003</td>\n",
       "      <td>NaN</td>\n",
       "      <td>80640.00</td>\n",
       "    </tr>\n",
       "  </tbody>\n",
       "</table>\n",
       "<p>5 rows × 37 columns</p>\n",
       "</div>"
      ],
      "text/plain": [
       "    Customer_ID  months_as_customer  age insured_sex insured_education_level  \\\n",
       "0  Customer_541                 239   41      FEMALE                      JD   \n",
       "1  Customer_440                 108   31        MALE                 Masters   \n",
       "2  Customer_482                 116   30        MALE                      JD   \n",
       "3  Customer_422                   8   21        MALE             High School   \n",
       "4  Customer_778                 161   38        MALE                     PhD   \n",
       "\n",
       "  insured_occupation insured_hobbies insured_relationship  capital-gains  \\\n",
       "0    farming-fishing       paintball       other-relative          51400   \n",
       "1    protective-serv        yachting        not-in-family              0   \n",
       "2  handlers-cleaners            golf        not-in-family              0   \n",
       "3  handlers-cleaners          hiking              husband              0   \n",
       "4    priv-house-serv        exercise        not-in-family          60200   \n",
       "\n",
       "   capital-loss  ...  authorities_contacted incident_state incident_city  \\\n",
       "0         -6300  ...                 Police             NC     Arlington   \n",
       "1             0  ...                   Fire             NY      Columbus   \n",
       "2        -35500  ...                  Other             WV     Riverwood   \n",
       "3             0  ...                  Other             WV      Columbus   \n",
       "4             0  ...                 Police             WV   Springfield   \n",
       "\n",
       "  witnesses  police_report_available   auto_make  auto_model  auto_year _c39  \\\n",
       "0         2                      YES    Mercedes        E400       2013  NaN   \n",
       "1         2                       NO       Dodge        Neon       2006  NaN   \n",
       "2         3                      NaN  Volkswagen      Passat       2004  NaN   \n",
       "3         0                      NaN      Toyota     Corolla       2012  NaN   \n",
       "4         2                      YES  Volkswagen       Jetta       2003  NaN   \n",
       "\n",
       "   total_claim_amount  \n",
       "0            14386.67  \n",
       "1            76440.00  \n",
       "2            79560.00  \n",
       "3           121680.00  \n",
       "4            80640.00  \n",
       "\n",
       "[5 rows x 37 columns]"
      ]
     },
     "execution_count": 6,
     "metadata": {},
     "output_type": "execute_result"
    }
   ],
   "source": [
    "Hack_train.replace(\"?\", np.NaN, inplace = True)\n",
    "Hack_train.head()"
   ]
  },
  {
   "cell_type": "code",
   "execution_count": 7,
   "id": "changing-mistake",
   "metadata": {},
   "outputs": [],
   "source": [
    "Hack_test.replace(\"?\", np.NaN, inplace = True)"
   ]
  },
  {
   "cell_type": "markdown",
   "id": "appointed-drill",
   "metadata": {},
   "source": [
    "### Back filling NaN values"
   ]
  },
  {
   "cell_type": "code",
   "execution_count": 8,
   "id": "liable-parallel",
   "metadata": {},
   "outputs": [],
   "source": [
    "Hack_train= Hack_train.fillna(method='bfill')"
   ]
  },
  {
   "cell_type": "code",
   "execution_count": 9,
   "id": "mounted-prospect",
   "metadata": {},
   "outputs": [
    {
     "data": {
      "text/html": [
       "<div>\n",
       "<style scoped>\n",
       "    .dataframe tbody tr th:only-of-type {\n",
       "        vertical-align: middle;\n",
       "    }\n",
       "\n",
       "    .dataframe tbody tr th {\n",
       "        vertical-align: top;\n",
       "    }\n",
       "\n",
       "    .dataframe thead th {\n",
       "        text-align: right;\n",
       "    }\n",
       "</style>\n",
       "<table border=\"1\" class=\"dataframe\">\n",
       "  <thead>\n",
       "    <tr style=\"text-align: right;\">\n",
       "      <th></th>\n",
       "      <th>Customer_ID</th>\n",
       "      <th>months_as_customer</th>\n",
       "      <th>age</th>\n",
       "      <th>insured_sex</th>\n",
       "      <th>insured_education_level</th>\n",
       "      <th>insured_occupation</th>\n",
       "      <th>insured_hobbies</th>\n",
       "      <th>insured_relationship</th>\n",
       "      <th>capital-gains</th>\n",
       "      <th>capital-loss</th>\n",
       "      <th>...</th>\n",
       "      <th>authorities_contacted</th>\n",
       "      <th>incident_state</th>\n",
       "      <th>incident_city</th>\n",
       "      <th>witnesses</th>\n",
       "      <th>police_report_available</th>\n",
       "      <th>auto_make</th>\n",
       "      <th>auto_model</th>\n",
       "      <th>auto_year</th>\n",
       "      <th>_c39</th>\n",
       "      <th>total_claim_amount</th>\n",
       "    </tr>\n",
       "  </thead>\n",
       "  <tbody>\n",
       "    <tr>\n",
       "      <th>0</th>\n",
       "      <td>Customer_541</td>\n",
       "      <td>239</td>\n",
       "      <td>41</td>\n",
       "      <td>FEMALE</td>\n",
       "      <td>JD</td>\n",
       "      <td>farming-fishing</td>\n",
       "      <td>paintball</td>\n",
       "      <td>other-relative</td>\n",
       "      <td>51400</td>\n",
       "      <td>-6300</td>\n",
       "      <td>...</td>\n",
       "      <td>Police</td>\n",
       "      <td>NC</td>\n",
       "      <td>Arlington</td>\n",
       "      <td>2</td>\n",
       "      <td>YES</td>\n",
       "      <td>Mercedes</td>\n",
       "      <td>E400</td>\n",
       "      <td>2013</td>\n",
       "      <td>NaN</td>\n",
       "      <td>14386.67</td>\n",
       "    </tr>\n",
       "    <tr>\n",
       "      <th>1</th>\n",
       "      <td>Customer_440</td>\n",
       "      <td>108</td>\n",
       "      <td>31</td>\n",
       "      <td>MALE</td>\n",
       "      <td>Masters</td>\n",
       "      <td>protective-serv</td>\n",
       "      <td>yachting</td>\n",
       "      <td>not-in-family</td>\n",
       "      <td>0</td>\n",
       "      <td>0</td>\n",
       "      <td>...</td>\n",
       "      <td>Fire</td>\n",
       "      <td>NY</td>\n",
       "      <td>Columbus</td>\n",
       "      <td>2</td>\n",
       "      <td>NO</td>\n",
       "      <td>Dodge</td>\n",
       "      <td>Neon</td>\n",
       "      <td>2006</td>\n",
       "      <td>NaN</td>\n",
       "      <td>76440.00</td>\n",
       "    </tr>\n",
       "  </tbody>\n",
       "</table>\n",
       "<p>2 rows × 37 columns</p>\n",
       "</div>"
      ],
      "text/plain": [
       "    Customer_ID  months_as_customer  age insured_sex insured_education_level  \\\n",
       "0  Customer_541                 239   41      FEMALE                      JD   \n",
       "1  Customer_440                 108   31        MALE                 Masters   \n",
       "\n",
       "  insured_occupation insured_hobbies insured_relationship  capital-gains  \\\n",
       "0    farming-fishing       paintball       other-relative          51400   \n",
       "1    protective-serv        yachting        not-in-family              0   \n",
       "\n",
       "   capital-loss  ...  authorities_contacted incident_state incident_city  \\\n",
       "0         -6300  ...                 Police             NC     Arlington   \n",
       "1             0  ...                   Fire             NY      Columbus   \n",
       "\n",
       "  witnesses  police_report_available auto_make  auto_model  auto_year _c39  \\\n",
       "0         2                      YES  Mercedes        E400       2013  NaN   \n",
       "1         2                       NO     Dodge        Neon       2006  NaN   \n",
       "\n",
       "   total_claim_amount  \n",
       "0            14386.67  \n",
       "1            76440.00  \n",
       "\n",
       "[2 rows x 37 columns]"
      ]
     },
     "execution_count": 9,
     "metadata": {},
     "output_type": "execute_result"
    }
   ],
   "source": [
    "Hack_train.head(2)"
   ]
  },
  {
   "cell_type": "code",
   "execution_count": 10,
   "id": "unnecessary-agency",
   "metadata": {},
   "outputs": [],
   "source": [
    "Hack_test = Hack_test.fillna(method='bfill')"
   ]
  },
  {
   "cell_type": "code",
   "execution_count": 11,
   "id": "prostate-qatar",
   "metadata": {},
   "outputs": [
    {
     "data": {
      "text/plain": [
       "NO     366\n",
       "YES    333\n",
       "Name: property_damage, dtype: int64"
      ]
     },
     "execution_count": 11,
     "metadata": {},
     "output_type": "execute_result"
    }
   ],
   "source": [
    "Hack_train['property_damage'].value_counts()"
   ]
  },
  {
   "cell_type": "code",
   "execution_count": 12,
   "id": "published-hartford",
   "metadata": {},
   "outputs": [
    {
     "data": {
      "text/plain": [
       "Rear Collision     250\n",
       "Side Collision     233\n",
       "Front Collision    217\n",
       "Name: collision_type, dtype: int64"
      ]
     },
     "execution_count": 12,
     "metadata": {},
     "output_type": "execute_result"
    }
   ],
   "source": [
    "Hack_train['collision_type'].value_counts()"
   ]
  },
  {
   "cell_type": "code",
   "execution_count": 13,
   "id": "beneficial-poker",
   "metadata": {},
   "outputs": [
    {
     "data": {
      "text/plain": [
       "NO     368\n",
       "YES    332\n",
       "Name: police_report_available, dtype: int64"
      ]
     },
     "execution_count": 13,
     "metadata": {},
     "output_type": "execute_result"
    }
   ],
   "source": [
    "Hack_train['police_report_available'].value_counts()"
   ]
  },
  {
   "cell_type": "markdown",
   "id": "photographic-boundary",
   "metadata": {},
   "source": [
    "### Exploratory Data Analysis of the Train Dataset"
   ]
  },
  {
   "cell_type": "code",
   "execution_count": 14,
   "id": "functioning-intake",
   "metadata": {},
   "outputs": [
    {
     "data": {
      "text/plain": [
       "<AxesSubplot:>"
      ]
     },
     "execution_count": 14,
     "metadata": {},
     "output_type": "execute_result"
    },
    {
     "data": {
      "image/png": "[encoded data removed]",
      "text/plain": [
       "<Figure size 432x288 with 2 Axes>"
      ]
     },
     "metadata": {
      "needs_background": "light"
     },
     "output_type": "display_data"
    }
   ],
   "source": [
    "sns.heatmap(Hack_train.corr())"
   ]
  },
  {
   "cell_type": "markdown",
   "id": "pregnant-knight",
   "metadata": {},
   "source": [
    "### Feature Selection"
   ]
  },
  {
   "cell_type": "code",
   "execution_count": 15,
   "id": "continent-tutorial",
   "metadata": {},
   "outputs": [
    {
     "data": {
      "text/html": [
       "<div>\n",
       "<style scoped>\n",
       "    .dataframe tbody tr th:only-of-type {\n",
       "        vertical-align: middle;\n",
       "    }\n",
       "\n",
       "    .dataframe tbody tr th {\n",
       "        vertical-align: top;\n",
       "    }\n",
       "\n",
       "    .dataframe thead th {\n",
       "        text-align: right;\n",
       "    }\n",
       "</style>\n",
       "<table border=\"1\" class=\"dataframe\">\n",
       "  <thead>\n",
       "    <tr style=\"text-align: right;\">\n",
       "      <th></th>\n",
       "      <th>age</th>\n",
       "      <th>insured_sex</th>\n",
       "      <th>insured_relationship</th>\n",
       "      <th>capital-loss</th>\n",
       "      <th>policy_number</th>\n",
       "      <th>policy_bind_date</th>\n",
       "      <th>policy_state</th>\n",
       "      <th>policy_csl</th>\n",
       "      <th>policy_deductable</th>\n",
       "      <th>incident_location</th>\n",
       "      <th>...</th>\n",
       "      <th>incident_severity</th>\n",
       "      <th>authorities_contacted</th>\n",
       "      <th>incident_state</th>\n",
       "      <th>incident_city</th>\n",
       "      <th>witnesses</th>\n",
       "      <th>police_report_available</th>\n",
       "      <th>auto_make</th>\n",
       "      <th>auto_model</th>\n",
       "      <th>auto_year</th>\n",
       "      <th>total_claim_amount</th>\n",
       "    </tr>\n",
       "  </thead>\n",
       "  <tbody>\n",
       "    <tr>\n",
       "      <th>0</th>\n",
       "      <td>41</td>\n",
       "      <td>FEMALE</td>\n",
       "      <td>other-relative</td>\n",
       "      <td>-6300</td>\n",
       "      <td>743092</td>\n",
       "      <td>11/11/2013</td>\n",
       "      <td>OH</td>\n",
       "      <td>250/500</td>\n",
       "      <td>1000</td>\n",
       "      <td>6303 1st Drive</td>\n",
       "      <td>...</td>\n",
       "      <td>Trivial Damage</td>\n",
       "      <td>Police</td>\n",
       "      <td>NC</td>\n",
       "      <td>Arlington</td>\n",
       "      <td>2</td>\n",
       "      <td>YES</td>\n",
       "      <td>Mercedes</td>\n",
       "      <td>E400</td>\n",
       "      <td>2013</td>\n",
       "      <td>14386.67</td>\n",
       "    </tr>\n",
       "    <tr>\n",
       "      <th>1</th>\n",
       "      <td>31</td>\n",
       "      <td>MALE</td>\n",
       "      <td>not-in-family</td>\n",
       "      <td>0</td>\n",
       "      <td>492224</td>\n",
       "      <td>09/12/2005</td>\n",
       "      <td>IN</td>\n",
       "      <td>500/1000</td>\n",
       "      <td>2000</td>\n",
       "      <td>5585 Washington Drive</td>\n",
       "      <td>...</td>\n",
       "      <td>Total Loss</td>\n",
       "      <td>Fire</td>\n",
       "      <td>NY</td>\n",
       "      <td>Columbus</td>\n",
       "      <td>2</td>\n",
       "      <td>NO</td>\n",
       "      <td>Dodge</td>\n",
       "      <td>Neon</td>\n",
       "      <td>2006</td>\n",
       "      <td>76440.00</td>\n",
       "    </tr>\n",
       "  </tbody>\n",
       "</table>\n",
       "<p>2 rows × 27 columns</p>\n",
       "</div>"
      ],
      "text/plain": [
       "   age insured_sex insured_relationship  capital-loss  policy_number  \\\n",
       "0   41      FEMALE       other-relative         -6300         743092   \n",
       "1   31        MALE        not-in-family             0         492224   \n",
       "\n",
       "  policy_bind_date policy_state policy_csl  policy_deductable  \\\n",
       "0       11/11/2013           OH    250/500               1000   \n",
       "1       09/12/2005           IN   500/1000               2000   \n",
       "\n",
       "       incident_location  ...  incident_severity  authorities_contacted  \\\n",
       "0         6303 1st Drive  ...     Trivial Damage                 Police   \n",
       "1  5585 Washington Drive  ...         Total Loss                   Fire   \n",
       "\n",
       "  incident_state  incident_city witnesses police_report_available auto_make  \\\n",
       "0             NC      Arlington         2                     YES  Mercedes   \n",
       "1             NY       Columbus         2                      NO     Dodge   \n",
       "\n",
       "  auto_model auto_year total_claim_amount  \n",
       "0       E400      2013           14386.67  \n",
       "1       Neon      2006           76440.00  \n",
       "\n",
       "[2 rows x 27 columns]"
      ]
     },
     "execution_count": 15,
     "metadata": {},
     "output_type": "execute_result"
    }
   ],
   "source": [
    "Hack_train.drop(['_c39', 'months_as_customer', 'Customer_ID', 'capital-gains', 'insured_occupation', 'bodily_injuries', 'umbrella_limit', 'insured_education_level', 'insured_hobbies', 'insured_zip'], axis = 1, inplace = True)\n",
    "Hack_train.head(2)"
   ]
  },
  {
   "cell_type": "code",
   "execution_count": 16,
   "id": "biblical-brake",
   "metadata": {},
   "outputs": [
    {
     "data": {
      "text/html": [
       "<div>\n",
       "<style scoped>\n",
       "    .dataframe tbody tr th:only-of-type {\n",
       "        vertical-align: middle;\n",
       "    }\n",
       "\n",
       "    .dataframe tbody tr th {\n",
       "        vertical-align: top;\n",
       "    }\n",
       "\n",
       "    .dataframe thead th {\n",
       "        text-align: right;\n",
       "    }\n",
       "</style>\n",
       "<table border=\"1\" class=\"dataframe\">\n",
       "  <thead>\n",
       "    <tr style=\"text-align: right;\">\n",
       "      <th></th>\n",
       "      <th>Customer_ID</th>\n",
       "      <th>age</th>\n",
       "      <th>insured_sex</th>\n",
       "      <th>insured_relationship</th>\n",
       "      <th>capital-loss</th>\n",
       "      <th>policy_number</th>\n",
       "      <th>policy_bind_date</th>\n",
       "      <th>policy_state</th>\n",
       "      <th>policy_csl</th>\n",
       "      <th>policy_deductable</th>\n",
       "      <th>...</th>\n",
       "      <th>collision_type</th>\n",
       "      <th>incident_severity</th>\n",
       "      <th>authorities_contacted</th>\n",
       "      <th>incident_state</th>\n",
       "      <th>incident_city</th>\n",
       "      <th>witnesses</th>\n",
       "      <th>police_report_available</th>\n",
       "      <th>auto_make</th>\n",
       "      <th>auto_model</th>\n",
       "      <th>auto_year</th>\n",
       "    </tr>\n",
       "  </thead>\n",
       "  <tbody>\n",
       "    <tr>\n",
       "      <th>0</th>\n",
       "      <td>Customer_521</td>\n",
       "      <td>26</td>\n",
       "      <td>FEMALE</td>\n",
       "      <td>not-in-family</td>\n",
       "      <td>0</td>\n",
       "      <td>924318</td>\n",
       "      <td>27/07/2014</td>\n",
       "      <td>IL</td>\n",
       "      <td>250/500</td>\n",
       "      <td>2000</td>\n",
       "      <td>...</td>\n",
       "      <td>Rear Collision</td>\n",
       "      <td>Total Loss</td>\n",
       "      <td>Ambulance</td>\n",
       "      <td>WV</td>\n",
       "      <td>Springfield</td>\n",
       "      <td>3</td>\n",
       "      <td>YES</td>\n",
       "      <td>Audi</td>\n",
       "      <td>A5</td>\n",
       "      <td>2003</td>\n",
       "    </tr>\n",
       "    <tr>\n",
       "      <th>1</th>\n",
       "      <td>Customer_737</td>\n",
       "      <td>33</td>\n",
       "      <td>FEMALE</td>\n",
       "      <td>husband</td>\n",
       "      <td>0</td>\n",
       "      <td>180286</td>\n",
       "      <td>08/02/2009</td>\n",
       "      <td>IL</td>\n",
       "      <td>500/1000</td>\n",
       "      <td>1000</td>\n",
       "      <td>...</td>\n",
       "      <td>Front Collision</td>\n",
       "      <td>Total Loss</td>\n",
       "      <td>Ambulance</td>\n",
       "      <td>NC</td>\n",
       "      <td>Riverwood</td>\n",
       "      <td>3</td>\n",
       "      <td>YES</td>\n",
       "      <td>Nissan</td>\n",
       "      <td>Pathfinder</td>\n",
       "      <td>2006</td>\n",
       "    </tr>\n",
       "  </tbody>\n",
       "</table>\n",
       "<p>2 rows × 27 columns</p>\n",
       "</div>"
      ],
      "text/plain": [
       "    Customer_ID  age insured_sex insured_relationship  capital-loss  \\\n",
       "0  Customer_521   26      FEMALE        not-in-family             0   \n",
       "1  Customer_737   33      FEMALE              husband             0   \n",
       "\n",
       "   policy_number policy_bind_date policy_state policy_csl  policy_deductable  \\\n",
       "0         924318       27/07/2014           IL    250/500               2000   \n",
       "1         180286       08/02/2009           IL   500/1000               1000   \n",
       "\n",
       "   ...   collision_type  incident_severity  authorities_contacted  \\\n",
       "0  ...   Rear Collision         Total Loss              Ambulance   \n",
       "1  ...  Front Collision         Total Loss              Ambulance   \n",
       "\n",
       "  incident_state  incident_city witnesses police_report_available auto_make  \\\n",
       "0             WV    Springfield         3                     YES      Audi   \n",
       "1             NC      Riverwood         3                     YES    Nissan   \n",
       "\n",
       "   auto_model auto_year  \n",
       "0          A5      2003  \n",
       "1  Pathfinder      2006  \n",
       "\n",
       "[2 rows x 27 columns]"
      ]
     },
     "execution_count": 16,
     "metadata": {},
     "output_type": "execute_result"
    }
   ],
   "source": [
    "Hack_test.drop(['_c39', 'months_as_customer', 'insured_occupation', 'capital-gains', 'bodily_injuries', 'umbrella_limit', 'insured_education_level', 'insured_hobbies', 'insured_zip'], axis = 1, inplace = True)\n",
    "Hack_test.head(2)"
   ]
  },
  {
   "cell_type": "markdown",
   "id": "unauthorized-orleans",
   "metadata": {},
   "source": [
    "## Splitting Data into features and label"
   ]
  },
  {
   "cell_type": "code",
   "execution_count": 17,
   "id": "hollow-pottery",
   "metadata": {},
   "outputs": [],
   "source": [
    "X = Hack_train.drop(['total_claim_amount'], axis = 1)"
   ]
  },
  {
   "cell_type": "code",
   "execution_count": 18,
   "id": "hungarian-neighborhood",
   "metadata": {},
   "outputs": [],
   "source": [
    "y = Hack_train['total_claim_amount']"
   ]
  },
  {
   "cell_type": "code",
   "execution_count": 19,
   "id": "greenhouse-alarm",
   "metadata": {},
   "outputs": [
    {
     "data": {
      "text/plain": [
       "(700, 26)"
      ]
     },
     "execution_count": 19,
     "metadata": {},
     "output_type": "execute_result"
    }
   ],
   "source": [
    "X.shape"
   ]
  },
  {
   "cell_type": "code",
   "execution_count": 20,
   "id": "fresh-driving",
   "metadata": {},
   "outputs": [
    {
     "data": {
      "text/plain": [
       "(300, 27)"
      ]
     },
     "execution_count": 20,
     "metadata": {},
     "output_type": "execute_result"
    }
   ],
   "source": [
    "Hack_test.shape"
   ]
  },
  {
   "cell_type": "code",
   "execution_count": 21,
   "id": "configured-toronto",
   "metadata": {},
   "outputs": [],
   "source": [
    "train = pd.get_dummies(X)\n",
    "test = pd.get_dummies(Hack_test)"
   ]
  },
  {
   "cell_type": "markdown",
   "id": "aggressive-income",
   "metadata": {},
   "source": [
    "### Aligning Train and Test Data for equality of columns"
   ]
  },
  {
   "cell_type": "code",
   "execution_count": 22,
   "id": "exclusive-professor",
   "metadata": {},
   "outputs": [],
   "source": [
    "final_train, final_test = train.align(test, join='inner', axis=1)"
   ]
  },
  {
   "cell_type": "code",
   "execution_count": 23,
   "id": "nutritional-irrigation",
   "metadata": {},
   "outputs": [
    {
     "data": {
      "text/plain": [
       "(700, 187)"
      ]
     },
     "execution_count": 23,
     "metadata": {},
     "output_type": "execute_result"
    }
   ],
   "source": [
    "final_train.shape"
   ]
  },
  {
   "cell_type": "code",
   "execution_count": 24,
   "id": "sunrise-hardware",
   "metadata": {},
   "outputs": [
    {
     "data": {
      "text/plain": [
       "(300, 187)"
      ]
     },
     "execution_count": 24,
     "metadata": {},
     "output_type": "execute_result"
    }
   ],
   "source": [
    "final_test.shape"
   ]
  },
  {
   "cell_type": "markdown",
   "id": "fixed-matrix",
   "metadata": {},
   "source": [
    "### Scaling train and test data"
   ]
  },
  {
   "cell_type": "raw",
   "id": "packed-profit",
   "metadata": {},
   "source": [
    "from sklearn.preprocessing import StandardScaler\n",
    "Sc_X = StandardScaler()\n",
    "final_train = Sc_X.fit_transform(final_train)\n",
    "final_test = Sc_X.transform(final_test)"
   ]
  },
  {
   "cell_type": "markdown",
   "id": "abroad-gates",
   "metadata": {},
   "source": [
    "## Model Building"
   ]
  },
  {
   "cell_type": "code",
   "execution_count": 25,
   "id": "elect-parade",
   "metadata": {},
   "outputs": [],
   "source": [
    "X_train, X_test, y_train, y_test = train_test_split (final_train, y, test_size = 0.25, random_state = 12345)"
   ]
  },
  {
   "cell_type": "markdown",
   "id": "measured-stocks",
   "metadata": {},
   "source": [
    "### Training Linear Regression Model"
   ]
  },
  {
   "cell_type": "code",
   "execution_count": 26,
   "id": "analyzed-friendly",
   "metadata": {},
   "outputs": [],
   "source": [
    "from sklearn.linear_model import LinearRegression"
   ]
  },
  {
   "cell_type": "code",
   "execution_count": 27,
   "id": "ideal-juvenile",
   "metadata": {},
   "outputs": [
    {
     "data": {
      "text/plain": [
       "LinearRegression()"
      ]
     },
     "execution_count": 27,
     "metadata": {},
     "output_type": "execute_result"
    }
   ],
   "source": [
    "linearmodel = LinearRegression()\n",
    "linearmodel.fit(X_train, y_train)"
   ]
  },
  {
   "cell_type": "code",
   "execution_count": 28,
   "id": "useful-index",
   "metadata": {},
   "outputs": [],
   "source": [
    "linearmodel_prediction = linearmodel.predict(X_test)"
   ]
  },
  {
   "cell_type": "code",
   "execution_count": 29,
   "id": "radio-floating",
   "metadata": {},
   "outputs": [
    {
     "data": {
      "text/plain": [
       "511716542.2515128"
      ]
     },
     "execution_count": 29,
     "metadata": {},
     "output_type": "execute_result"
    }
   ],
   "source": [
    "MSE = metrics.mean_squared_error(y_test, linearmodel_prediction)\n",
    "MSE"
   ]
  },
  {
   "cell_type": "code",
   "execution_count": 30,
   "id": "distributed-knife",
   "metadata": {},
   "outputs": [
    {
     "data": {
      "text/plain": [
       "22621.152540299816"
      ]
     },
     "execution_count": 30,
     "metadata": {},
     "output_type": "execute_result"
    }
   ],
   "source": [
    "np.sqrt(MSE)"
   ]
  },
  {
   "cell_type": "code",
   "execution_count": 31,
   "id": "conservative-halifax",
   "metadata": {},
   "outputs": [
    {
     "data": {
      "text/plain": [
       "0.6449176013463556"
      ]
     },
     "execution_count": 31,
     "metadata": {},
     "output_type": "execute_result"
    }
   ],
   "source": [
    "rsqd3 = r2_score(y_test.tolist(), linearmodel_prediction.tolist())\n",
    "rsqd3"
   ]
  },
  {
   "cell_type": "markdown",
   "id": "pending-sensitivity",
   "metadata": {},
   "source": [
    "### Training Xtreme Gradient Boost Model"
   ]
  },
  {
   "cell_type": "code",
   "execution_count": 32,
   "id": "eastern-offering",
   "metadata": {},
   "outputs": [
    {
     "name": "stdout",
     "output_type": "stream",
     "text": [
      "[23:38:16] WARNING: src/objective/regression_obj.cu:152: reg:linear is now deprecated in favor of reg:squarederror.\n"
     ]
    }
   ],
   "source": [
    "from xgboost import XGBRegressor\n",
    "xgboostmodel = XGBRegressor()\n",
    "xgboostmodel = xgboostmodel.fit(X_train, y_train)"
   ]
  },
  {
   "cell_type": "code",
   "execution_count": 33,
   "id": "stuck-cameroon",
   "metadata": {},
   "outputs": [],
   "source": [
    "xgboostmodel_prediction = xgboostmodel.predict(X_test)"
   ]
  },
  {
   "cell_type": "code",
   "execution_count": 34,
   "id": "eleven-marijuana",
   "metadata": {},
   "outputs": [
    {
     "data": {
      "text/plain": [
       "425022492.40754586"
      ]
     },
     "execution_count": 34,
     "metadata": {},
     "output_type": "execute_result"
    }
   ],
   "source": [
    "MSE2 = metrics.mean_squared_error(y_test, xgboostmodel_prediction)\n",
    "MSE2"
   ]
  },
  {
   "cell_type": "code",
   "execution_count": 35,
   "id": "medium-anxiety",
   "metadata": {},
   "outputs": [
    {
     "data": {
      "text/plain": [
       "20616.07364188307"
      ]
     },
     "execution_count": 35,
     "metadata": {},
     "output_type": "execute_result"
    }
   ],
   "source": [
    "np.sqrt(MSE2)"
   ]
  },
  {
   "cell_type": "code",
   "execution_count": 36,
   "id": "remarkable-quarterly",
   "metadata": {},
   "outputs": [
    {
     "data": {
      "text/plain": [
       "0.7050749904980708"
      ]
     },
     "execution_count": 36,
     "metadata": {},
     "output_type": "execute_result"
    }
   ],
   "source": [
    "rsqd2 = r2_score(y_test.tolist(), xgboostmodel_prediction.tolist())\n",
    "rsqd2"
   ]
  },
  {
   "cell_type": "markdown",
   "id": "preliminary-brown",
   "metadata": {},
   "source": [
    "### Training Random Forest Model"
   ]
  },
  {
   "cell_type": "code",
   "execution_count": 37,
   "id": "meaningful-boating",
   "metadata": {},
   "outputs": [],
   "source": [
    "from sklearn.ensemble import RandomForestRegressor\n",
    "\n",
    "randomforestmodel = RandomForestRegressor()"
   ]
  },
  {
   "cell_type": "code",
   "execution_count": 38,
   "id": "drawn-biotechnology",
   "metadata": {},
   "outputs": [
    {
     "data": {
      "text/plain": [
       "RandomForestRegressor()"
      ]
     },
     "execution_count": 38,
     "metadata": {},
     "output_type": "execute_result"
    }
   ],
   "source": [
    "randomforestmodel.fit(X_train, y_train)"
   ]
  },
  {
   "cell_type": "code",
   "execution_count": 39,
   "id": "therapeutic-imaging",
   "metadata": {},
   "outputs": [],
   "source": [
    "randomforestmodel_prediction = randomforestmodel.predict(X_test)"
   ]
  },
  {
   "cell_type": "code",
   "execution_count": 40,
   "id": "perfect-functionality",
   "metadata": {},
   "outputs": [
    {
     "data": {
      "text/plain": [
       "382790219.4791554"
      ]
     },
     "execution_count": 40,
     "metadata": {},
     "output_type": "execute_result"
    }
   ],
   "source": [
    "MSE4 = metrics.mean_squared_error(y_test,randomforestmodel_prediction)\n",
    "MSE4"
   ]
  },
  {
   "cell_type": "code",
   "execution_count": 41,
   "id": "funny-allocation",
   "metadata": {},
   "outputs": [
    {
     "data": {
      "text/plain": [
       "19565.025414733183"
      ]
     },
     "execution_count": 41,
     "metadata": {},
     "output_type": "execute_result"
    }
   ],
   "source": [
    "np.sqrt(MSE4)"
   ]
  },
  {
   "cell_type": "code",
   "execution_count": 42,
   "id": "unable-hotel",
   "metadata": {},
   "outputs": [
    {
     "data": {
      "text/plain": [
       "0.7343801536769419"
      ]
     },
     "execution_count": 42,
     "metadata": {},
     "output_type": "execute_result"
    }
   ],
   "source": [
    "rsqd = r2_score(y_test.tolist(), randomforestmodel_prediction.tolist())\n",
    "rsqd"
   ]
  },
  {
   "cell_type": "markdown",
   "id": "protecting-federal",
   "metadata": {},
   "source": [
    "Random Forest Model performs better than other models in RMSE and R^2 values"
   ]
  },
  {
   "cell_type": "markdown",
   "id": "graduate-crack",
   "metadata": {},
   "source": [
    "### Getting result for Random Forest Model"
   ]
  },
  {
   "cell_type": "code",
   "execution_count": 43,
   "id": "modern-radio",
   "metadata": {},
   "outputs": [],
   "source": [
    "submission_file4 = randomforestmodel.predict(final_test)"
   ]
  },
  {
   "cell_type": "code",
   "execution_count": 44,
   "id": "educational-questionnaire",
   "metadata": {},
   "outputs": [],
   "source": [
    "results3 = pd.Series(submission_file4, name = 'total_claim_amount')\n",
    "submission6 = pd.concat([Hack_test['Customer_ID'], results3], axis = 1)"
   ]
  },
  {
   "cell_type": "code",
   "execution_count": 45,
   "id": "chief-singapore",
   "metadata": {},
   "outputs": [
    {
     "data": {
      "text/html": [
       "<div>\n",
       "<style scoped>\n",
       "    .dataframe tbody tr th:only-of-type {\n",
       "        vertical-align: middle;\n",
       "    }\n",
       "\n",
       "    .dataframe tbody tr th {\n",
       "        vertical-align: top;\n",
       "    }\n",
       "\n",
       "    .dataframe thead th {\n",
       "        text-align: right;\n",
       "    }\n",
       "</style>\n",
       "<table border=\"1\" class=\"dataframe\">\n",
       "  <thead>\n",
       "    <tr style=\"text-align: right;\">\n",
       "      <th></th>\n",
       "      <th>Customer_ID</th>\n",
       "      <th>total_claim_amount</th>\n",
       "    </tr>\n",
       "  </thead>\n",
       "  <tbody>\n",
       "    <tr>\n",
       "      <th>0</th>\n",
       "      <td>Customer_521</td>\n",
       "      <td>79108.3998</td>\n",
       "    </tr>\n",
       "    <tr>\n",
       "      <th>1</th>\n",
       "      <td>Customer_737</td>\n",
       "      <td>71218.3996</td>\n",
       "    </tr>\n",
       "    <tr>\n",
       "      <th>2</th>\n",
       "      <td>Customer_740</td>\n",
       "      <td>90289.2005</td>\n",
       "    </tr>\n",
       "    <tr>\n",
       "      <th>3</th>\n",
       "      <td>Customer_660</td>\n",
       "      <td>90516.1338</td>\n",
       "    </tr>\n",
       "    <tr>\n",
       "      <th>4</th>\n",
       "      <td>Customer_411</td>\n",
       "      <td>6289.2003</td>\n",
       "    </tr>\n",
       "  </tbody>\n",
       "</table>\n",
       "</div>"
      ],
      "text/plain": [
       "    Customer_ID  total_claim_amount\n",
       "0  Customer_521          79108.3998\n",
       "1  Customer_737          71218.3996\n",
       "2  Customer_740          90289.2005\n",
       "3  Customer_660          90516.1338\n",
       "4  Customer_411           6289.2003"
      ]
     },
     "execution_count": 45,
     "metadata": {},
     "output_type": "execute_result"
    }
   ],
   "source": [
    "submission6.head()"
   ]
  },
  {
   "cell_type": "code",
   "execution_count": 46,
   "id": "unexpected-alarm",
   "metadata": {},
   "outputs": [
    {
     "data": {
      "text/plain": [
       "<AxesSubplot:xlabel='total_claim_amount'>"
      ]
     },
     "execution_count": 46,
     "metadata": {},
     "output_type": "execute_result"
    },
    {
     "data": {
      "image/png": "[encoded data removed]",
      "text/plain": [
       "<Figure size 432x288 with 1 Axes>"
      ]
     },
     "metadata": {
      "needs_background": "light"
     },
     "output_type": "display_data"
    }
   ],
   "source": [
    "sns.boxplot(x ='total_claim_amount', data= submission6)"
   ]
  },
  {
   "cell_type": "code",
   "execution_count": 47,
   "id": "virgin-strap",
   "metadata": {},
   "outputs": [],
   "source": [
    "submission6.to_csv('final_Submission.csv', index = False )"
   ]
  }
 ],
 "metadata": {
  "kernelspec": {
   "display_name": "Python 3",
   "language": "python",
   "name": "python3"
  },
  "language_info": {
   "codemirror_mode": {
    "name": "ipython",
    "version": 3
   },
   "file_extension": ".py",
   "mimetype": "text/x-python",
   "name": "python",
   "nbconvert_exporter": "python",
   "pygments_lexer": "ipython3",
   "version": "3.7.9"
  }
 },
 "nbformat": 4,
 "nbformat_minor": 5
}
